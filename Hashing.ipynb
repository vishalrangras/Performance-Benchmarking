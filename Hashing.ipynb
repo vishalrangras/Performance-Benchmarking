{
 "cells": [
  {
   "cell_type": "markdown",
   "metadata": {},
   "source": [
    "### Hash Tables (Data Structures) and Hashing Algorithms"
   ]
  },
  {
   "cell_type": "markdown",
   "metadata": {},
   "source": [
    "### Simple Hash Table\n",
    "\n",
    "In the below Hash Table, the index value is computed as follows:\n",
    "\n",
    "1. Take ASCII value of each charater of the text that needs to be saved. e.g. M = 77, i = 105, a = 97\n",
    "2. Sum the ASCII values\n",
    "3. Divide ASCII values by total length of the Array (i.e. 11).\n",
    "4. Use the Modulo/Reminder obtained in step 3 as the index value. For 1st case, it index = 4.\n",
    "5. When you need to find index of the data, repeat the process to get the index, then retrieve the data."
   ]
  },
  {
   "cell_type": "markdown",
   "metadata": {},
   "source": [
    "![Hashing01](./img/Hashing01.png)"
   ]
  },
  {
   "cell_type": "markdown",
   "metadata": {},
   "source": [
    "![Hashing01](./img/Hashing02.png)"
   ]
  },
  {
   "cell_type": "markdown",
   "metadata": {},
   "source": []
  },
  {
   "cell_type": "markdown",
   "metadata": {},
   "source": [
    "### Collision\n",
    "\n",
    "A collision happens when two different data values yields the same index after applying hash function to them. In the below screenshot, the hashing output of Sue and Mia, both, is 4. Since the index 4 is already occupied by Mia, Sue would have look for next available slot(index). Since index 5 is also occupied by Zoe, Sue will settle for the index 6. This process of searching for next available slot in case of collison is called ***Linear Probing***.\n",
    "\n",
    "This kind of collision resolution is called ***Open Addressing.***"
   ]
  },
  {
   "cell_type": "markdown",
   "metadata": {},
   "source": [
    "![Hashing01](./img/Hashing03.png)"
   ]
  },
  {
   "cell_type": "markdown",
   "metadata": {},
   "source": [
    "### Sue settling for index 6"
   ]
  },
  {
   "cell_type": "markdown",
   "metadata": {},
   "source": [
    "![Hashing01](./img/Hashing04.png)"
   ]
  },
  {
   "cell_type": "markdown",
   "metadata": {},
   "source": [
    "### Close Address Collision Resolution\n",
    "\n",
    "In this method, we don't put the data to the next available index(slot), but instead we use Linked Lists to attach data(keys) having same index with each other and putting them all on the same index, as shown below:"
   ]
  },
  {
   "cell_type": "markdown",
   "metadata": {},
   "source": [
    "![Hashing01](./img/Hashing05.png)"
   ]
  },
  {
   "cell_type": "markdown",
   "metadata": {},
   "source": [
    "### Collision Resolution Summary"
   ]
  },
  {
   "cell_type": "markdown",
   "metadata": {},
   "source": [
    "![Hashing01](./img/Hashing06.png)"
   ]
  },
  {
   "cell_type": "markdown",
   "metadata": {},
   "source": [
    "### Objectives of Hash Function"
   ]
  },
  {
   "cell_type": "markdown",
   "metadata": {},
   "source": [
    "![Hashing01](./img/Hashing07.png)"
   ]
  },
  {
   "cell_type": "markdown",
   "metadata": {},
   "source": [
    "![Hashing01](./img/Hashing08.png)"
   ]
  },
  {
   "cell_type": "code",
   "execution_count": null,
   "metadata": {},
   "outputs": [],
   "source": []
  }
 ],
 "metadata": {
  "kernelspec": {
   "display_name": "Python 3",
   "language": "python",
   "name": "python3"
  },
  "language_info": {
   "codemirror_mode": {
    "name": "ipython",
    "version": 3
   },
   "file_extension": ".py",
   "mimetype": "text/x-python",
   "name": "python",
   "nbconvert_exporter": "python",
   "pygments_lexer": "ipython3",
   "version": "3.6.10"
  }
 },
 "nbformat": 4,
 "nbformat_minor": 4
}
