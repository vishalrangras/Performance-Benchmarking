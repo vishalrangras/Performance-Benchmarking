{
 "cells": [
  {
   "cell_type": "markdown",
   "metadata": {},
   "source": [
    "## Binary Search - All Credit to Khan Academy\n",
    "\n",
    "**Problem:** An array with n-elements is given. You need to find the index of element (target) that you need to search in the array. The array and the target can be provided as inputs to the Binary Search method, while the index of the target element should be returned as output. It should return -1, if no such element is found in the input array.\n",
    "\n",
    "**Psuedo code**\n",
    "\n",
    "\n",
    "\n",
    "> 1. Let min = 0 and max = n - 1\n",
    "2. If min > max, then the target element is not present in array. Return -1.\n",
    "3. Compute guess as the average of max and min, rounded down to an integer.\n",
    "4. If array[guess] equals target, then stop. You found it! Return guess.\n",
    "5. If the guess was too low, that is array[guess] < target, set min = guess + 1.\n",
    "6. Otherwise, the guess was too high. Set max = guess - 1.\n",
    "7. Go back to step 2.\n",
    "\n",
    "**Running Time:** The running time of binary search for an array with n elements can be given by logn(base 2) + 1. \n",
    "\n",
    "**E.g.:**\n",
    "\n",
    "For 32 elements, log32 = 5, so it will take at most 6 iterations.\n",
    "\n",
    "For 1000 elements, log512 = 9, so it will take at most 10 iterations.\n",
    "\n",
    "**P.S.** What if n isn't a power of 2? In that case, we can look at the closest lower power of 2. For an array whose length is 1000, the closest lower power of 2 is 512, which equals 2^9.\n"
   ]
  },
  {
   "cell_type": "code",
   "execution_count": 8,
   "metadata": {},
   "outputs": [],
   "source": [
    "def binary_search(input_array, target):\n",
    "    min_val = 0\n",
    "    max_val = len(input_array) - 1\n",
    "    while True:\n",
    "        if min_val > max_val:\n",
    "            return -1\n",
    "        else:\n",
    "            guess = int((min_val + max_val)/2)\n",
    "            if input_array[guess]==target:\n",
    "                return guess\n",
    "            else:\n",
    "                if input_array[guess]<target:\n",
    "                    min_val = guess + 1\n",
    "                else:\n",
    "                    max_val = guess - 1"
   ]
  },
  {
   "cell_type": "code",
   "execution_count": 20,
   "metadata": {},
   "outputs": [
    {
     "data": {
      "text/plain": [
       "18"
      ]
     },
     "execution_count": 20,
     "metadata": {},
     "output_type": "execute_result"
    }
   ],
   "source": [
    "input_array = [2, 3, 5, 7, 11, 13, 17, 19, 23, 29, 31, 37, 41, 43, 47, 53, 59, 61, 67, 71, 73, 79, 83, 89, 97]\n",
    "target = 67\n",
    "\n",
    "binary_search(input_array, target)"
   ]
  },
  {
   "attachments": {},
   "cell_type": "markdown",
   "metadata": {},
   "source": [
    "## Asymptotic Notations\n",
    "\n",
    "**Running time of an algorithm - Two Ideas**\n",
    "\n",
    "1. Think of running time as function of the size of its input. Since clearly, the running time increases with the size of input.\n",
    "2. We focus on how fast a function grows with the input size. This is called **rate of growth** of the algorithm's running time. We drop the less significant terms and coefficients from the running time equation, this gives us it's rate of growth.\n",
    "\n",
    "When we drop the constant coefficients and the less significant terms, we use asymptotic notation. We'll see three forms of it: big-Θ (Theta) notation, big-O notation, and big-Ω(Omega) notation.\n",
    "\n",
    "****\n",
    "\n",
    "**Big-Θ Notation:** When we say that a particular running time is ***Θ(n)***, we are saying that once **n** gets large enough, the running time is at least *k<sub>1</sub> ⋅ n* and at most *k<sub>2</sub> ⋅ n* for some constants *k<sub>1</sub>* and *k<sub>2</sub>*. \n",
    "\n",
    "![Big-Theta on n](./img/Big-Theta1.png)\n",
    "\n",
    "For small values of n, we don't care how the running time compares with *k<sub>1</sub> ⋅ n* or *k<sub>2</sub> ⋅ n*, but once the n gets large enough or say it is on the right side of the dashed line, the running time must be sandwiched between *k<sub>1</sub> ⋅ n* and *k<sub>2</sub> ⋅ n*.\n",
    "\n",
    "As long as these constants *k<sub>1</sub>* and *k<sub>2</sub>* exists, we say that the running time is ***Θ(n)***. The running time has upper bound as well as the lower bound.\n",
    "\n",
    "We are not restricted to just *n* in Big-Θ notation, we could have any function such as n<sup>2</sup>, nlog<sub>2</sub>n, or any other function of n. Here is how to think of a running time that is *Θ(f(n))* of some function *f(n)*.\n",
    "\n",
    "![Big-Theta on f(n)](./img/Big-Theta2.png)\n",
    "\n",
    "Once *n* gets large enough, the running time is between *k<sub>1</sub> ⋅ f(n)* and *k<sub>2</sub> ⋅ f(n)*\n",
    "\n",
    "When using Big-Θ notation, we are saying that we have an asymptotically tight bound on the running time. Asymptotic because it matters only for large values of *n* or *f(n)* and tight bound because we nailed  the running time to within a constant factor above and below.\n",
    "\n",
    "Some common Functions growing from lowest to highest:\n",
    "\n",
    "1. Θ(1) - Constant\n",
    "2. Θ(log<sub>2</sub>n) - Logarithmic\n",
    "3. Θ(n) - Linear\n",
    "4. Θ(nlog<sub>2</sub>n) - Linarithmic\n",
    "5. Θ(n<sup>2</sup>) - Polynomial\n",
    "6. Θ(n<sup>2</sup>log<sub>2</sub>n) - Polynomial Logarithmic\n",
    "7. Θ(n<sup>3</sup>) - Higher power of Polynomial\n",
    "8. Θ(2<sup>n</sup>) - Exponential\n",
    "9. Θ(n!) - Factorial\n",
    "\n",
    "![f(n) = Θ(g(n)) - 1](./img/FnGn1.png)\n",
    "![f(n) = Θ(g(n)) - 2](./img/FnGn2.png)\n",
    "![f(n) = Θ(g(n)) - 3](./img/FnGn3.png)\n",
    "\n",
    "****\n",
    "\n"
   ]
  },
  {
   "cell_type": "code",
   "execution_count": null,
   "metadata": {},
   "outputs": [],
   "source": []
  }
 ],
 "metadata": {
  "kernelspec": {
   "display_name": "Python 3",
   "language": "python",
   "name": "python3"
  },
  "language_info": {
   "codemirror_mode": {
    "name": "ipython",
    "version": 3
   },
   "file_extension": ".py",
   "mimetype": "text/x-python",
   "name": "python",
   "nbconvert_exporter": "python",
   "pygments_lexer": "ipython3",
   "version": "3.6.10"
  }
 },
 "nbformat": 4,
 "nbformat_minor": 4
}
